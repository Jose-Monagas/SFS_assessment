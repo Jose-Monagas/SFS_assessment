{
 "cells": [
  {
   "cell_type": "code",
   "execution_count": 1,
   "id": "d757c814",
   "metadata": {},
   "outputs": [],
   "source": [
    "import pandas as pd\n",
    "import pandas as pd\n",
    "import matplotlib.pyplot as plt\n",
    "import seaborn as sns\n",
    "%matplotlib inline\n",
    "sns.set()"
   ]
  },
  {
   "cell_type": "code",
   "execution_count": 2,
   "id": "58291290",
   "metadata": {},
   "outputs": [],
   "source": [
    "# Files to load\n",
    "client_data_to_load = \"../files/Current_Clients.csv\"\n",
    "leads_data_to_load = \"../files/leads.csv\""
   ]
  },
  {
   "cell_type": "code",
   "execution_count": 3,
   "id": "d7f8dc0a",
   "metadata": {},
   "outputs": [],
   "source": [
    "# Read in the files\n",
    "client_data_df = pd.read_csv(client_data_to_load)\n",
    "leads_data_df = pd.read_csv(leads_data_to_load)"
   ]
  },
  {
   "cell_type": "code",
   "execution_count": 4,
   "id": "b3ccf25e",
   "metadata": {
    "scrolled": true
   },
   "outputs": [
    {
     "data": {
      "text/plain": [
       "Client ID     0\n",
       "First Name    0\n",
       "Last Name     0\n",
       "City          0\n",
       "State         0\n",
       "ZIP           0\n",
       "dtype: int64"
      ]
     },
     "execution_count": 4,
     "metadata": {},
     "output_type": "execute_result"
    }
   ],
   "source": [
    "# Examine client_data_df and look for null values\n",
    "client_data_df.isnull().sum()"
   ]
  },
  {
   "cell_type": "code",
   "execution_count": 5,
   "id": "c76e3069",
   "metadata": {
    "scrolled": true
   },
   "outputs": [
    {
     "data": {
      "text/plain": [
       "first_name     0\n",
       "last_name      0\n",
       "age           25\n",
       "gender        25\n",
       "debt          14\n",
       "city           0\n",
       "state          0\n",
       "zip            0\n",
       "dtype: int64"
      ]
     },
     "execution_count": 5,
     "metadata": {},
     "output_type": "execute_result"
    }
   ],
   "source": [
    "# Examine leads_data_df and look for null values\n",
    "leads_data_df.isnull().sum()"
   ]
  },
  {
   "cell_type": "code",
   "execution_count": 6,
   "id": "d41ef7b5",
   "metadata": {
    "scrolled": true
   },
   "outputs": [],
   "source": [
    "# Cast null values as zero for further analysis\n",
    "leads_data_df['debt'] = leads_data_df['debt'].fillna(0)\n"
   ]
  },
  {
   "cell_type": "code",
   "execution_count": 7,
   "id": "b1397d56",
   "metadata": {},
   "outputs": [
    {
     "data": {
      "text/plain": [
       "first_name     0\n",
       "last_name      0\n",
       "age           25\n",
       "gender        25\n",
       "debt           0\n",
       "city           0\n",
       "state          0\n",
       "zip            0\n",
       "dtype: int64"
      ]
     },
     "execution_count": 7,
     "metadata": {},
     "output_type": "execute_result"
    }
   ],
   "source": [
    "leads_data_df.isnull().sum()"
   ]
  },
  {
   "cell_type": "code",
   "execution_count": 8,
   "id": "e85d7b31",
   "metadata": {
    "scrolled": true
   },
   "outputs": [
    {
     "data": {
      "text/html": [
       "<div>\n",
       "<style scoped>\n",
       "    .dataframe tbody tr th:only-of-type {\n",
       "        vertical-align: middle;\n",
       "    }\n",
       "\n",
       "    .dataframe tbody tr th {\n",
       "        vertical-align: top;\n",
       "    }\n",
       "\n",
       "    .dataframe thead th {\n",
       "        text-align: right;\n",
       "    }\n",
       "</style>\n",
       "<table border=\"1\" class=\"dataframe\">\n",
       "  <thead>\n",
       "    <tr style=\"text-align: right;\">\n",
       "      <th></th>\n",
       "      <th>first_name</th>\n",
       "      <th>last_name</th>\n",
       "      <th>age</th>\n",
       "      <th>gender</th>\n",
       "      <th>debt</th>\n",
       "      <th>city</th>\n",
       "      <th>state</th>\n",
       "      <th>zip</th>\n",
       "    </tr>\n",
       "  </thead>\n",
       "  <tbody>\n",
       "    <tr>\n",
       "      <th>430</th>\n",
       "      <td>Giulietta</td>\n",
       "      <td>Brazil</td>\n",
       "      <td>51.0</td>\n",
       "      <td>Female</td>\n",
       "      <td>$54,229</td>\n",
       "      <td>Cincinnati</td>\n",
       "      <td>OH</td>\n",
       "      <td>45233</td>\n",
       "    </tr>\n",
       "    <tr>\n",
       "      <th>575</th>\n",
       "      <td>Gilbert</td>\n",
       "      <td>Belliard</td>\n",
       "      <td>33.0</td>\n",
       "      <td>Male</td>\n",
       "      <td>$85,064</td>\n",
       "      <td>Columbia</td>\n",
       "      <td>MO</td>\n",
       "      <td>65218</td>\n",
       "    </tr>\n",
       "    <tr>\n",
       "      <th>534</th>\n",
       "      <td>Klaus</td>\n",
       "      <td>Challener</td>\n",
       "      <td>75.0</td>\n",
       "      <td>Male</td>\n",
       "      <td>$105,225</td>\n",
       "      <td>Chicago</td>\n",
       "      <td>IL</td>\n",
       "      <td>60630</td>\n",
       "    </tr>\n",
       "    <tr>\n",
       "      <th>46</th>\n",
       "      <td>Tyrus</td>\n",
       "      <td>Caulcott</td>\n",
       "      <td>35.0</td>\n",
       "      <td>Male</td>\n",
       "      <td>$17,556</td>\n",
       "      <td>New York City</td>\n",
       "      <td>NY</td>\n",
       "      <td>10131</td>\n",
       "    </tr>\n",
       "    <tr>\n",
       "      <th>415</th>\n",
       "      <td>Sheelah</td>\n",
       "      <td>Petris</td>\n",
       "      <td>23.0</td>\n",
       "      <td>Female</td>\n",
       "      <td>$77,491</td>\n",
       "      <td>Cleveland</td>\n",
       "      <td>OH</td>\n",
       "      <td>44111</td>\n",
       "    </tr>\n",
       "    <tr>\n",
       "      <th>586</th>\n",
       "      <td>Margo</td>\n",
       "      <td>Maffulli</td>\n",
       "      <td>100.0</td>\n",
       "      <td>Female</td>\n",
       "      <td>$36,427</td>\n",
       "      <td>Topeka</td>\n",
       "      <td>KS</td>\n",
       "      <td>66606</td>\n",
       "    </tr>\n",
       "    <tr>\n",
       "      <th>508</th>\n",
       "      <td>Tansy</td>\n",
       "      <td>Mossbee</td>\n",
       "      <td>87.0</td>\n",
       "      <td>Female</td>\n",
       "      <td>$57,755</td>\n",
       "      <td>Saint Paul</td>\n",
       "      <td>MN</td>\n",
       "      <td>55146</td>\n",
       "    </tr>\n",
       "    <tr>\n",
       "      <th>767</th>\n",
       "      <td>Salvidor</td>\n",
       "      <td>Clemits</td>\n",
       "      <td>65.0</td>\n",
       "      <td>Male</td>\n",
       "      <td>$102,638</td>\n",
       "      <td>Cheyenne</td>\n",
       "      <td>WY</td>\n",
       "      <td>82007</td>\n",
       "    </tr>\n",
       "    <tr>\n",
       "      <th>139</th>\n",
       "      <td>Zeke</td>\n",
       "      <td>Emanson</td>\n",
       "      <td>65.0</td>\n",
       "      <td>Male</td>\n",
       "      <td>$100,739</td>\n",
       "      <td>Washington</td>\n",
       "      <td>DC</td>\n",
       "      <td>20420</td>\n",
       "    </tr>\n",
       "    <tr>\n",
       "      <th>799</th>\n",
       "      <td>Kellina</td>\n",
       "      <td>Noakes</td>\n",
       "      <td>83.0</td>\n",
       "      <td>Female</td>\n",
       "      <td>$24,058</td>\n",
       "      <td>Scottsdale</td>\n",
       "      <td>AZ</td>\n",
       "      <td>85260</td>\n",
       "    </tr>\n",
       "  </tbody>\n",
       "</table>\n",
       "</div>"
      ],
      "text/plain": [
       "    first_name  last_name    age  gender      debt           city state    zip\n",
       "430  Giulietta     Brazil   51.0  Female   $54,229     Cincinnati    OH  45233\n",
       "575    Gilbert   Belliard   33.0    Male   $85,064       Columbia    MO  65218\n",
       "534      Klaus  Challener   75.0    Male  $105,225        Chicago    IL  60630\n",
       "46       Tyrus   Caulcott   35.0    Male   $17,556  New York City    NY  10131\n",
       "415    Sheelah     Petris   23.0  Female   $77,491      Cleveland    OH  44111\n",
       "586      Margo   Maffulli  100.0  Female   $36,427         Topeka    KS  66606\n",
       "508      Tansy    Mossbee   87.0  Female   $57,755     Saint Paul    MN  55146\n",
       "767   Salvidor    Clemits   65.0    Male  $102,638       Cheyenne    WY  82007\n",
       "139       Zeke    Emanson   65.0    Male  $100,739     Washington    DC  20420\n",
       "799    Kellina     Noakes   83.0  Female   $24,058     Scottsdale    AZ  85260"
      ]
     },
     "execution_count": 8,
     "metadata": {},
     "output_type": "execute_result"
    }
   ],
   "source": [
    "leads_data_df.sample(10)"
   ]
  },
  {
   "cell_type": "code",
   "execution_count": 9,
   "id": "c2aa692b",
   "metadata": {},
   "outputs": [
    {
     "data": {
      "text/html": [
       "<div>\n",
       "<style scoped>\n",
       "    .dataframe tbody tr th:only-of-type {\n",
       "        vertical-align: middle;\n",
       "    }\n",
       "\n",
       "    .dataframe tbody tr th {\n",
       "        vertical-align: top;\n",
       "    }\n",
       "\n",
       "    .dataframe thead th {\n",
       "        text-align: right;\n",
       "    }\n",
       "</style>\n",
       "<table border=\"1\" class=\"dataframe\">\n",
       "  <thead>\n",
       "    <tr style=\"text-align: right;\">\n",
       "      <th></th>\n",
       "      <th>Client ID</th>\n",
       "      <th>First Name</th>\n",
       "      <th>Last Name</th>\n",
       "      <th>City</th>\n",
       "      <th>State</th>\n",
       "      <th>ZIP</th>\n",
       "    </tr>\n",
       "  </thead>\n",
       "  <tbody>\n",
       "    <tr>\n",
       "      <th>0</th>\n",
       "      <td>1</td>\n",
       "      <td>Vincenty</td>\n",
       "      <td>Vanyard</td>\n",
       "      <td>Hollywood</td>\n",
       "      <td>FL</td>\n",
       "      <td>33028</td>\n",
       "    </tr>\n",
       "    <tr>\n",
       "      <th>1</th>\n",
       "      <td>2</td>\n",
       "      <td>Pattie</td>\n",
       "      <td>Okeshott</td>\n",
       "      <td>Scottsdale</td>\n",
       "      <td>AZ</td>\n",
       "      <td>85271</td>\n",
       "    </tr>\n",
       "    <tr>\n",
       "      <th>2</th>\n",
       "      <td>3</td>\n",
       "      <td>Olenka</td>\n",
       "      <td>Blackler</td>\n",
       "      <td>Phoenix</td>\n",
       "      <td>AZ</td>\n",
       "      <td>85020</td>\n",
       "    </tr>\n",
       "    <tr>\n",
       "      <th>3</th>\n",
       "      <td>4</td>\n",
       "      <td>Georgia</td>\n",
       "      <td>Elby</td>\n",
       "      <td>Virginia Beach</td>\n",
       "      <td>VA</td>\n",
       "      <td>23454</td>\n",
       "    </tr>\n",
       "    <tr>\n",
       "      <th>4</th>\n",
       "      <td>5</td>\n",
       "      <td>Sheelah</td>\n",
       "      <td>Petris</td>\n",
       "      <td>Cleveland</td>\n",
       "      <td>OH</td>\n",
       "      <td>44111</td>\n",
       "    </tr>\n",
       "    <tr>\n",
       "      <th>5</th>\n",
       "      <td>6</td>\n",
       "      <td>Dorree</td>\n",
       "      <td>Nunan</td>\n",
       "      <td>Salt Lake City</td>\n",
       "      <td>UT</td>\n",
       "      <td>84115</td>\n",
       "    </tr>\n",
       "    <tr>\n",
       "      <th>6</th>\n",
       "      <td>7</td>\n",
       "      <td>Rodina</td>\n",
       "      <td>De Giovanni</td>\n",
       "      <td>Vero Beach</td>\n",
       "      <td>FL</td>\n",
       "      <td>32964</td>\n",
       "    </tr>\n",
       "    <tr>\n",
       "      <th>7</th>\n",
       "      <td>8</td>\n",
       "      <td>Sibbie</td>\n",
       "      <td>Lorman</td>\n",
       "      <td>Salt Lake City</td>\n",
       "      <td>UT</td>\n",
       "      <td>84170</td>\n",
       "    </tr>\n",
       "    <tr>\n",
       "      <th>8</th>\n",
       "      <td>9</td>\n",
       "      <td>Falito</td>\n",
       "      <td>Dymott</td>\n",
       "      <td>Macon</td>\n",
       "      <td>GA</td>\n",
       "      <td>31217</td>\n",
       "    </tr>\n",
       "    <tr>\n",
       "      <th>9</th>\n",
       "      <td>10</td>\n",
       "      <td>Kin</td>\n",
       "      <td>Rydeard</td>\n",
       "      <td>Saint Paul</td>\n",
       "      <td>MN</td>\n",
       "      <td>55115</td>\n",
       "    </tr>\n",
       "  </tbody>\n",
       "</table>\n",
       "</div>"
      ],
      "text/plain": [
       "   Client ID First Name    Last Name            City State    ZIP\n",
       "0          1   Vincenty      Vanyard       Hollywood    FL  33028\n",
       "1          2     Pattie     Okeshott      Scottsdale    AZ  85271\n",
       "2          3     Olenka     Blackler         Phoenix    AZ  85020\n",
       "3          4    Georgia         Elby  Virginia Beach    VA  23454\n",
       "4          5    Sheelah       Petris       Cleveland    OH  44111\n",
       "5          6     Dorree        Nunan  Salt Lake City    UT  84115\n",
       "6          7     Rodina  De Giovanni      Vero Beach    FL  32964\n",
       "7          8     Sibbie       Lorman  Salt Lake City    UT  84170\n",
       "8          9     Falito       Dymott           Macon    GA  31217\n",
       "9         10        Kin      Rydeard      Saint Paul    MN  55115"
      ]
     },
     "execution_count": 9,
     "metadata": {},
     "output_type": "execute_result"
    }
   ],
   "source": [
    "client_data_df.head(10)"
   ]
  },
  {
   "cell_type": "code",
   "execution_count": 10,
   "id": "dc87b3f1",
   "metadata": {},
   "outputs": [],
   "source": [
    "# Drop extra column and reassign Client ID as index\n",
    "client_data_df.set_index('Client ID', inplace=True)\n"
   ]
  },
  {
   "cell_type": "code",
   "execution_count": 11,
   "id": "9fe9d142",
   "metadata": {},
   "outputs": [
    {
     "data": {
      "text/plain": [
       "first_name     object\n",
       "last_name      object\n",
       "age           float64\n",
       "gender         object\n",
       "debt           object\n",
       "city           object\n",
       "state          object\n",
       "zip             int64\n",
       "dtype: object"
      ]
     },
     "execution_count": 11,
     "metadata": {},
     "output_type": "execute_result"
    }
   ],
   "source": [
    "# Check data types \n",
    "leads_data_df.dtypes"
   ]
  },
  {
   "cell_type": "code",
   "execution_count": 12,
   "id": "2cb8dc74",
   "metadata": {},
   "outputs": [
    {
     "data": {
      "text/plain": [
       "First Name    object\n",
       "Last Name     object\n",
       "City          object\n",
       "State         object\n",
       "ZIP            int64\n",
       "dtype: object"
      ]
     },
     "execution_count": 12,
     "metadata": {},
     "output_type": "execute_result"
    }
   ],
   "source": [
    "# Check data types \n",
    "client_data_df.dtypes"
   ]
  },
  {
   "cell_type": "code",
   "execution_count": 13,
   "id": "5f345333",
   "metadata": {
    "scrolled": true
   },
   "outputs": [
    {
     "data": {
      "text/html": [
       "<div>\n",
       "<style scoped>\n",
       "    .dataframe tbody tr th:only-of-type {\n",
       "        vertical-align: middle;\n",
       "    }\n",
       "\n",
       "    .dataframe tbody tr th {\n",
       "        vertical-align: top;\n",
       "    }\n",
       "\n",
       "    .dataframe thead th {\n",
       "        text-align: right;\n",
       "    }\n",
       "</style>\n",
       "<table border=\"1\" class=\"dataframe\">\n",
       "  <thead>\n",
       "    <tr style=\"text-align: right;\">\n",
       "      <th></th>\n",
       "      <th>first_name</th>\n",
       "      <th>last_name</th>\n",
       "      <th>age</th>\n",
       "      <th>gender</th>\n",
       "      <th>debt</th>\n",
       "      <th>city</th>\n",
       "      <th>state</th>\n",
       "      <th>zip</th>\n",
       "    </tr>\n",
       "  </thead>\n",
       "  <tbody>\n",
       "    <tr>\n",
       "      <th>0</th>\n",
       "      <td>Terrye</td>\n",
       "      <td>Gunnell</td>\n",
       "      <td>60.0</td>\n",
       "      <td>Female</td>\n",
       "      <td>101876</td>\n",
       "      <td>Springfield</td>\n",
       "      <td>MA</td>\n",
       "      <td>1152</td>\n",
       "    </tr>\n",
       "    <tr>\n",
       "      <th>1</th>\n",
       "      <td>Rodolph</td>\n",
       "      <td>Gerb</td>\n",
       "      <td>47.0</td>\n",
       "      <td>Male</td>\n",
       "      <td>92052</td>\n",
       "      <td>Worcester</td>\n",
       "      <td>MA</td>\n",
       "      <td>1605</td>\n",
       "    </tr>\n",
       "    <tr>\n",
       "      <th>2</th>\n",
       "      <td>Glynis</td>\n",
       "      <td>D'orsay</td>\n",
       "      <td>56.0</td>\n",
       "      <td>Female</td>\n",
       "      <td>72343</td>\n",
       "      <td>Worcester</td>\n",
       "      <td>MA</td>\n",
       "      <td>1654</td>\n",
       "    </tr>\n",
       "    <tr>\n",
       "      <th>3</th>\n",
       "      <td>Alvie</td>\n",
       "      <td>Vennart</td>\n",
       "      <td>73.0</td>\n",
       "      <td>Male</td>\n",
       "      <td>76304</td>\n",
       "      <td>Woburn</td>\n",
       "      <td>MA</td>\n",
       "      <td>1813</td>\n",
       "    </tr>\n",
       "    <tr>\n",
       "      <th>4</th>\n",
       "      <td>Brantley</td>\n",
       "      <td>Chalker</td>\n",
       "      <td>87.0</td>\n",
       "      <td>Male</td>\n",
       "      <td>22570</td>\n",
       "      <td>Boston</td>\n",
       "      <td>MA</td>\n",
       "      <td>2114</td>\n",
       "    </tr>\n",
       "    <tr>\n",
       "      <th>...</th>\n",
       "      <td>...</td>\n",
       "      <td>...</td>\n",
       "      <td>...</td>\n",
       "      <td>...</td>\n",
       "      <td>...</td>\n",
       "      <td>...</td>\n",
       "      <td>...</td>\n",
       "      <td>...</td>\n",
       "    </tr>\n",
       "    <tr>\n",
       "      <th>995</th>\n",
       "      <td>Sigrid</td>\n",
       "      <td>Clevely</td>\n",
       "      <td>39.0</td>\n",
       "      <td>Female</td>\n",
       "      <td>0</td>\n",
       "      <td>Spokane</td>\n",
       "      <td>WA</td>\n",
       "      <td>99215</td>\n",
       "    </tr>\n",
       "    <tr>\n",
       "      <th>996</th>\n",
       "      <td>Hank</td>\n",
       "      <td>Effnert</td>\n",
       "      <td>62.0</td>\n",
       "      <td>Male</td>\n",
       "      <td>89054</td>\n",
       "      <td>Spokane</td>\n",
       "      <td>WA</td>\n",
       "      <td>99215</td>\n",
       "    </tr>\n",
       "    <tr>\n",
       "      <th>997</th>\n",
       "      <td>Harley</td>\n",
       "      <td>Lodder</td>\n",
       "      <td>37.0</td>\n",
       "      <td>Male</td>\n",
       "      <td>100941</td>\n",
       "      <td>Spokane</td>\n",
       "      <td>WA</td>\n",
       "      <td>99252</td>\n",
       "    </tr>\n",
       "    <tr>\n",
       "      <th>998</th>\n",
       "      <td>Mose</td>\n",
       "      <td>Warwick</td>\n",
       "      <td>88.0</td>\n",
       "      <td>Male</td>\n",
       "      <td>33860</td>\n",
       "      <td>Anchorage</td>\n",
       "      <td>AK</td>\n",
       "      <td>99507</td>\n",
       "    </tr>\n",
       "    <tr>\n",
       "      <th>999</th>\n",
       "      <td>Willi</td>\n",
       "      <td>Sivess</td>\n",
       "      <td>68.0</td>\n",
       "      <td>Male</td>\n",
       "      <td>62314</td>\n",
       "      <td>Juneau</td>\n",
       "      <td>AK</td>\n",
       "      <td>99812</td>\n",
       "    </tr>\n",
       "  </tbody>\n",
       "</table>\n",
       "<p>1000 rows × 8 columns</p>\n",
       "</div>"
      ],
      "text/plain": [
       "    first_name last_name   age  gender    debt         city state    zip\n",
       "0       Terrye   Gunnell  60.0  Female  101876  Springfield    MA   1152\n",
       "1      Rodolph      Gerb  47.0    Male   92052    Worcester    MA   1605\n",
       "2       Glynis   D'orsay  56.0  Female   72343    Worcester    MA   1654\n",
       "3        Alvie   Vennart  73.0    Male   76304       Woburn    MA   1813\n",
       "4     Brantley   Chalker  87.0    Male   22570       Boston    MA   2114\n",
       "..         ...       ...   ...     ...     ...          ...   ...    ...\n",
       "995     Sigrid   Clevely  39.0  Female       0      Spokane    WA  99215\n",
       "996       Hank   Effnert  62.0    Male   89054      Spokane    WA  99215\n",
       "997     Harley    Lodder  37.0    Male  100941      Spokane    WA  99252\n",
       "998       Mose   Warwick  88.0    Male   33860    Anchorage    AK  99507\n",
       "999      Willi    Sivess  68.0    Male   62314       Juneau    AK  99812\n",
       "\n",
       "[1000 rows x 8 columns]"
      ]
     },
     "execution_count": 13,
     "metadata": {},
     "output_type": "execute_result"
    }
   ],
   "source": [
    "# Use regex to ged rid of $ in the debt column\n",
    "leads_data_df['debt'] = leads_data_df['debt'].replace({'\\$': '', ',': ''}, regex=True)\n",
    "leads_data_df"
   ]
  },
  {
   "cell_type": "code",
   "execution_count": 14,
   "id": "fc95957c",
   "metadata": {},
   "outputs": [],
   "source": [
    "# convert column \"debt\" to int64 dtype \n",
    "leads_data_df.debt = leads_data_df.debt.astype('int64')\n",
    "\n",
    "  \n",
    "# # Now we will convert it into 'int64' type.\n",
    "# df.Weight = df.Weight.astype('int64')\n",
    "  \n",
    "# let's find out the data type after casting\n",
    "# after = type(df.Weight[0])\n",
    "  "
   ]
  },
  {
   "cell_type": "code",
   "execution_count": 15,
   "id": "c852f1fd",
   "metadata": {
    "scrolled": true
   },
   "outputs": [
    {
     "data": {
      "text/plain": [
       "gender\n",
       "Female    477\n",
       "Male      498\n",
       "Name: gender, dtype: int64"
      ]
     },
     "execution_count": 15,
     "metadata": {},
     "output_type": "execute_result"
    }
   ],
   "source": [
    "# Group leads by gender\n",
    "gender_data = leads_data_df.groupby('gender')['gender'].count()\n",
    "gender_data"
   ]
  },
  {
   "cell_type": "code",
   "execution_count": 16,
   "id": "fcdef1a1",
   "metadata": {},
   "outputs": [],
   "source": [
    "leads_gender = leads_data_df['gender']\n",
    "def sex_counter(leads_gender):\n",
    "    male = 0\n",
    "    female = 0\n",
    "\n",
    "    for i in leads_gender:\n",
    "        if i == 'Female':\n",
    "            female += 1\n",
    "        elif i == 'Male':\n",
    "            male += 1\n",
    "            \n",
    "    return male,female\n",
    "    "
   ]
  },
  {
   "cell_type": "code",
   "execution_count": 17,
   "id": "797b506b",
   "metadata": {},
   "outputs": [
    {
     "data": {
      "text/plain": [
       "(498, 477)"
      ]
     },
     "execution_count": 17,
     "metadata": {},
     "output_type": "execute_result"
    }
   ],
   "source": [
    "sex_counter(leads_gender)"
   ]
  },
  {
   "cell_type": "code",
   "execution_count": 18,
   "id": "7f401323",
   "metadata": {},
   "outputs": [
    {
     "data": {
      "image/png": "[encoded data removed]",
      "text/plain": [
       "<Figure size 648x432 with 1 Axes>"
      ]
     },
     "metadata": {},
     "output_type": "display_data"
    }
   ],
   "source": [
    "# Plot leads by gender using matplotlib\n",
    "pie, ax = plt.subplots(figsize=[9,6])\n",
    "labels = gender_data.keys()\n",
    "plt.pie(x=gender_data, autopct=\"%.1f%%\", explode=[0.05]*2, labels=labels, pctdistance=0.5)\n",
    "plt.title(\"Leads data by Gender\", fontsize=14)\n",
    "pie.savefig(\"DeliveryPieChart.png\")"
   ]
  },
  {
   "cell_type": "code",
   "execution_count": 19,
   "id": "e63b5cca",
   "metadata": {
    "scrolled": true
   },
   "outputs": [
    {
     "data": {
      "text/plain": [
       "state\n",
       "AK      2\n",
       "AL     24\n",
       "AR      3\n",
       "AZ     17\n",
       "CA    112\n",
       "CO     25\n",
       "CT     13\n",
       "DC     34\n",
       "DE      1\n",
       "FL     69\n",
       "GA     27\n",
       "HI      4\n",
       "IA      9\n",
       "ID      4\n",
       "IL     29\n",
       "IN     19\n",
       "KS     18\n",
       "KY     13\n",
       "LA     20\n",
       "MA     15\n",
       "MD     10\n",
       "MI     18\n",
       "MN     19\n",
       "MO     21\n",
       "MS      4\n",
       "NC     29\n",
       "ND      2\n",
       "NE      7\n",
       "NJ     10\n",
       "NM      9\n",
       "NV     24\n",
       "NY     50\n",
       "OH     45\n",
       "OK     27\n",
       "OR      9\n",
       "PA     30\n",
       "SC      9\n",
       "SD      3\n",
       "TN     26\n",
       "TX     97\n",
       "UT     14\n",
       "VA     27\n",
       "VT      1\n",
       "WA     27\n",
       "WI     14\n",
       "WV      7\n",
       "WY      3\n",
       "Name: state, dtype: int64"
      ]
     },
     "execution_count": 19,
     "metadata": {},
     "output_type": "execute_result"
    }
   ],
   "source": [
    "# Group leads by State \n",
    "\n",
    "state_data = leads_data_df.groupby('state')['state'].count()\n",
    "state_data"
   ]
  },
  {
   "cell_type": "code",
   "execution_count": 20,
   "id": "e833d131",
   "metadata": {
    "scrolled": true
   },
   "outputs": [
    {
     "data": {
      "text/plain": [
       "state\n",
       "CA    112\n",
       "TX     97\n",
       "FL     69\n",
       "NY     50\n",
       "OH     45\n",
       "DC     34\n",
       "PA     30\n",
       "IL     29\n",
       "NC     29\n",
       "GA     27\n",
       "VA     27\n",
       "WA     27\n",
       "OK     27\n",
       "TN     26\n",
       "CO     25\n",
       "AL     24\n",
       "NV     24\n",
       "MO     21\n",
       "LA     20\n",
       "MN     19\n",
       "IN     19\n",
       "MI     18\n",
       "KS     18\n",
       "AZ     17\n",
       "MA     15\n",
       "UT     14\n",
       "WI     14\n",
       "KY     13\n",
       "CT     13\n",
       "MD     10\n",
       "NJ     10\n",
       "IA      9\n",
       "OR      9\n",
       "SC      9\n",
       "NM      9\n",
       "NE      7\n",
       "WV      7\n",
       "ID      4\n",
       "HI      4\n",
       "MS      4\n",
       "WY      3\n",
       "SD      3\n",
       "AR      3\n",
       "ND      2\n",
       "AK      2\n",
       "VT      1\n",
       "DE      1\n",
       "Name: state, dtype: int64"
      ]
     },
     "execution_count": 20,
     "metadata": {},
     "output_type": "execute_result"
    }
   ],
   "source": [
    "# Top 10 states \n",
    "state_data_sorted = state_data.sort_values(ascending=False)\n",
    "state_data_sorted"
   ]
  },
  {
   "cell_type": "code",
   "execution_count": 21,
   "id": "dbac9a25",
   "metadata": {
    "scrolled": true
   },
   "outputs": [
    {
     "data": {
      "text/plain": [
       "state\n",
       "CA    112\n",
       "TX     97\n",
       "FL     69\n",
       "NY     50\n",
       "OH     45\n",
       "DC     34\n",
       "PA     30\n",
       "IL     29\n",
       "NC     29\n",
       "GA     27\n",
       "Name: state, dtype: int64"
      ]
     },
     "execution_count": 21,
     "metadata": {},
     "output_type": "execute_result"
    }
   ],
   "source": [
    "state_top_data = state_data_sorted[:10]\n",
    "state_top_data"
   ]
  },
  {
   "cell_type": "code",
   "execution_count": 22,
   "id": "5f5e4c43",
   "metadata": {},
   "outputs": [
    {
     "data": {
      "text/plain": [
       "Index(['CA', 'TX', 'FL', 'NY', 'OH', 'DC', 'PA', 'IL', 'NC', 'GA'], dtype='object', name='state')"
      ]
     },
     "execution_count": 22,
     "metadata": {},
     "output_type": "execute_result"
    }
   ],
   "source": [
    "state_top_data.keys()"
   ]
  },
  {
   "cell_type": "code",
   "execution_count": 23,
   "id": "c75b648d",
   "metadata": {
    "scrolled": true
   },
   "outputs": [
    {
     "data": {
      "text/plain": [
       "state\n",
       "CA    11.2\n",
       "TX     9.7\n",
       "FL     6.9\n",
       "NY     5.0\n",
       "OH     4.5\n",
       "DC     3.4\n",
       "PA     3.0\n",
       "IL     2.9\n",
       "NC     2.9\n",
       "GA     2.7\n",
       "Name: state, dtype: float64"
      ]
     },
     "execution_count": 23,
     "metadata": {},
     "output_type": "execute_result"
    }
   ],
   "source": [
    "# As we don’t have the autopct option available in Seaborn, we’ll need to calculate the percentage column for the top 10 states.\n",
    "total_count = state_data.sum()\n",
    "state_pcts = round((state_top_data / total_count * 100),2)\n",
    "state_pcts"
   ]
  },
  {
   "cell_type": "code",
   "execution_count": 24,
   "id": "119a9f94",
   "metadata": {},
   "outputs": [
    {
     "name": "stderr",
     "output_type": "stream",
     "text": [
      "/Users/josemonagas/anaconda3/envs/PythonData/lib/python3.7/site-packages/ipykernel_launcher.py:3: MatplotlibDeprecationWarning: Using a string of single character colors as a color sequence is deprecated since 3.2 and will be removed two minor releases later. Use an explicit list instead.\n",
      "  This is separate from the ipykernel package so we can avoid doing imports until\n"
     ]
    },
    {
     "data": {
      "text/plain": [
       "<matplotlib.legend.Legend at 0x7f9ca7361e10>"
      ]
     },
     "execution_count": 24,
     "metadata": {},
     "output_type": "execute_result"
    },
    {
     "data": {
      "image/png": "[encoded data removed]",
      "text/plain": [
       "<Figure size 432x288 with 1 Axes>"
      ]
     },
     "metadata": {},
     "output_type": "display_data"
    }
   ],
   "source": [
    "# Plot state data \n",
    "my_colors = 'rgbkymc'\n",
    "plt.bar(state_top_data.keys(), state_top_data, color=my_colors, label='States')\n",
    "# Create labels for the x and y axes.\n",
    "plt.xlabel(\"State\")\n",
    "plt.ylabel(\"Users per State\")\n",
    "# Create a title.\n",
    "plt.title(\"Top 10 States\")\n",
    "# Add the legend.\n",
    "plt.legend()"
   ]
  },
  {
   "cell_type": "code",
   "execution_count": 25,
   "id": "f361ea5e",
   "metadata": {},
   "outputs": [
    {
     "data": {
      "text/plain": [
       "gender\n",
       "Female    29027030\n",
       "Male      30133392\n",
       "Name: debt, dtype: int64"
      ]
     },
     "execution_count": 25,
     "metadata": {},
     "output_type": "execute_result"
    }
   ],
   "source": [
    "# Debt by gender  \n",
    "debt_data_by_gender = leads_data_df.groupby('gender')['debt'].sum()\n",
    "debt_data_by_gender"
   ]
  },
  {
   "cell_type": "code",
   "execution_count": null,
   "id": "42598f77",
   "metadata": {},
   "outputs": [],
   "source": []
  }
 ],
 "metadata": {
  "kernelspec": {
   "display_name": "PythonData",
   "language": "python",
   "name": "pythondata"
  },
  "language_info": {
   "codemirror_mode": {
    "name": "ipython",
    "version": 3
   },
   "file_extension": ".py",
   "mimetype": "text/x-python",
   "name": "python",
   "nbconvert_exporter": "python",
   "pygments_lexer": "ipython3",
   "version": "3.7.9"
  }
 },
 "nbformat": 4,
 "nbformat_minor": 5
}
