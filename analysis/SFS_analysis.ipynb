{
 "cells": [
  {
   "cell_type": "code",
   "execution_count": 1,
   "id": "d757c814",
   "metadata": {},
   "outputs": [],
   "source": [
    "import pandas as pd\n",
    "import pandas as pd\n",
    "import matplotlib.pyplot as plt\n",
    "import seaborn as sns\n",
    "%matplotlib inline\n",
    "sns.set()"
   ]
  },
  {
   "cell_type": "code",
   "execution_count": 2,
   "id": "58291290",
   "metadata": {},
   "outputs": [],
   "source": [
    "# Files to load\n",
    "client_data_to_load = \"../files/Current_Clients.csv\"\n",
    "leads_data_to_load = \"../files/leads.csv\""
   ]
  },
  {
   "cell_type": "code",
   "execution_count": 3,
   "id": "d7f8dc0a",
   "metadata": {},
   "outputs": [],
   "source": [
    "# Read in the files\n",
    "client_data_df = pd.read_csv(client_data_to_load)\n",
    "leads_data_df = pd.read_csv(leads_data_to_load)"
   ]
  },
  {
   "cell_type": "code",
   "execution_count": 4,
   "id": "b3ccf25e",
   "metadata": {
    "scrolled": true
   },
   "outputs": [
    {
     "data": {
      "text/plain": [
       "Client ID     0\n",
       "First Name    0\n",
       "Last Name     0\n",
       "City          0\n",
       "State         0\n",
       "ZIP           0\n",
       "dtype: int64"
      ]
     },
     "execution_count": 4,
     "metadata": {},
     "output_type": "execute_result"
    }
   ],
   "source": [
    "# Examine client_data_df and look for null values\n",
    "client_data_df.isnull().sum()"
   ]
  },
  {
   "cell_type": "code",
   "execution_count": 5,
   "id": "c76e3069",
   "metadata": {
    "scrolled": true
   },
   "outputs": [
    {
     "data": {
      "text/plain": [
       "first_name     0\n",
       "last_name      0\n",
       "age           25\n",
       "gender        25\n",
       "debt          14\n",
       "city           0\n",
       "state          0\n",
       "zip            0\n",
       "dtype: int64"
      ]
     },
     "execution_count": 5,
     "metadata": {},
     "output_type": "execute_result"
    }
   ],
   "source": [
    "# Examine leads_data_df and look for null values\n",
    "leads_data_df.isnull().sum()"
   ]
  },
  {
   "cell_type": "code",
   "execution_count": 6,
   "id": "684e2ec3",
   "metadata": {
    "scrolled": true
   },
   "outputs": [],
   "source": [
    "# Cast null values as zero for further analysis\n",
    "leads_data_df['debt'] = leads_data_df['debt'].fillna(0)\n"
   ]
  },
  {
   "cell_type": "code",
   "execution_count": 7,
   "id": "fb28a738",
   "metadata": {},
   "outputs": [
    {
     "data": {
      "text/plain": [
       "first_name     0\n",
       "last_name      0\n",
       "age           25\n",
       "gender        25\n",
       "debt           0\n",
       "city           0\n",
       "state          0\n",
       "zip            0\n",
       "dtype: int64"
      ]
     },
     "execution_count": 7,
     "metadata": {},
     "output_type": "execute_result"
    }
   ],
   "source": [
    "leads_data_df.isnull().sum()"
   ]
  },
  {
   "cell_type": "code",
   "execution_count": 8,
   "id": "e85d7b31",
   "metadata": {
    "scrolled": true
   },
   "outputs": [
    {
     "data": {
      "text/html": [
       "<div>\n",
       "<style scoped>\n",
       "    .dataframe tbody tr th:only-of-type {\n",
       "        vertical-align: middle;\n",
       "    }\n",
       "\n",
       "    .dataframe tbody tr th {\n",
       "        vertical-align: top;\n",
       "    }\n",
       "\n",
       "    .dataframe thead th {\n",
       "        text-align: right;\n",
       "    }\n",
       "</style>\n",
       "<table border=\"1\" class=\"dataframe\">\n",
       "  <thead>\n",
       "    <tr style=\"text-align: right;\">\n",
       "      <th></th>\n",
       "      <th>first_name</th>\n",
       "      <th>last_name</th>\n",
       "      <th>age</th>\n",
       "      <th>gender</th>\n",
       "      <th>debt</th>\n",
       "      <th>city</th>\n",
       "      <th>state</th>\n",
       "      <th>zip</th>\n",
       "    </tr>\n",
       "  </thead>\n",
       "  <tbody>\n",
       "    <tr>\n",
       "      <th>460</th>\n",
       "      <td>Consuela</td>\n",
       "      <td>Kareman</td>\n",
       "      <td>83.0</td>\n",
       "      <td>Female</td>\n",
       "      <td>$32,026</td>\n",
       "      <td>Terre Haute</td>\n",
       "      <td>IN</td>\n",
       "      <td>47805</td>\n",
       "    </tr>\n",
       "    <tr>\n",
       "      <th>37</th>\n",
       "      <td>Pace</td>\n",
       "      <td>Lowdwell</td>\n",
       "      <td>91.0</td>\n",
       "      <td>Male</td>\n",
       "      <td>$51,659</td>\n",
       "      <td>Trenton</td>\n",
       "      <td>NJ</td>\n",
       "      <td>8603</td>\n",
       "    </tr>\n",
       "    <tr>\n",
       "      <th>441</th>\n",
       "      <td>Carla</td>\n",
       "      <td>Surplice</td>\n",
       "      <td>83.0</td>\n",
       "      <td>Female</td>\n",
       "      <td>$54,768</td>\n",
       "      <td>Dayton</td>\n",
       "      <td>OH</td>\n",
       "      <td>45490</td>\n",
       "    </tr>\n",
       "    <tr>\n",
       "      <th>861</th>\n",
       "      <td>Jen</td>\n",
       "      <td>Riccelli</td>\n",
       "      <td>42.0</td>\n",
       "      <td>Female</td>\n",
       "      <td>$37,916</td>\n",
       "      <td>Inglewood</td>\n",
       "      <td>CA</td>\n",
       "      <td>90310</td>\n",
       "    </tr>\n",
       "    <tr>\n",
       "      <th>368</th>\n",
       "      <td>Torry</td>\n",
       "      <td>Durnford</td>\n",
       "      <td>34.0</td>\n",
       "      <td>Male</td>\n",
       "      <td>$12,614</td>\n",
       "      <td>Chattanooga</td>\n",
       "      <td>TN</td>\n",
       "      <td>37416</td>\n",
       "    </tr>\n",
       "    <tr>\n",
       "      <th>278</th>\n",
       "      <td>Alva</td>\n",
       "      <td>Couche</td>\n",
       "      <td>69.0</td>\n",
       "      <td>Male</td>\n",
       "      <td>$47,144</td>\n",
       "      <td>Orlando</td>\n",
       "      <td>FL</td>\n",
       "      <td>32825</td>\n",
       "    </tr>\n",
       "    <tr>\n",
       "      <th>950</th>\n",
       "      <td>Marcelline</td>\n",
       "      <td>Angood</td>\n",
       "      <td>68.0</td>\n",
       "      <td>Female</td>\n",
       "      <td>$107,577</td>\n",
       "      <td>San Jose</td>\n",
       "      <td>CA</td>\n",
       "      <td>95155</td>\n",
       "    </tr>\n",
       "    <tr>\n",
       "      <th>799</th>\n",
       "      <td>Kellina</td>\n",
       "      <td>Noakes</td>\n",
       "      <td>83.0</td>\n",
       "      <td>Female</td>\n",
       "      <td>$24,058</td>\n",
       "      <td>Scottsdale</td>\n",
       "      <td>AZ</td>\n",
       "      <td>85260</td>\n",
       "    </tr>\n",
       "    <tr>\n",
       "      <th>226</th>\n",
       "      <td>Adams</td>\n",
       "      <td>Symcock</td>\n",
       "      <td>32.0</td>\n",
       "      <td>Male</td>\n",
       "      <td>$28,970</td>\n",
       "      <td>Wilmington</td>\n",
       "      <td>NC</td>\n",
       "      <td>28405</td>\n",
       "    </tr>\n",
       "    <tr>\n",
       "      <th>423</th>\n",
       "      <td>Tessie</td>\n",
       "      <td>Gleder</td>\n",
       "      <td>22.0</td>\n",
       "      <td>Female</td>\n",
       "      <td>$62,057</td>\n",
       "      <td>Youngstown</td>\n",
       "      <td>OH</td>\n",
       "      <td>44505</td>\n",
       "    </tr>\n",
       "  </tbody>\n",
       "</table>\n",
       "</div>"
      ],
      "text/plain": [
       "     first_name last_name   age  gender      debt         city state    zip\n",
       "460    Consuela   Kareman  83.0  Female   $32,026  Terre Haute    IN  47805\n",
       "37         Pace  Lowdwell  91.0    Male   $51,659      Trenton    NJ   8603\n",
       "441       Carla  Surplice  83.0  Female   $54,768       Dayton    OH  45490\n",
       "861         Jen  Riccelli  42.0  Female   $37,916    Inglewood    CA  90310\n",
       "368       Torry  Durnford  34.0    Male   $12,614  Chattanooga    TN  37416\n",
       "278        Alva    Couche  69.0    Male   $47,144      Orlando    FL  32825\n",
       "950  Marcelline    Angood  68.0  Female  $107,577     San Jose    CA  95155\n",
       "799     Kellina    Noakes  83.0  Female   $24,058   Scottsdale    AZ  85260\n",
       "226       Adams   Symcock  32.0    Male   $28,970   Wilmington    NC  28405\n",
       "423      Tessie    Gleder  22.0  Female   $62,057   Youngstown    OH  44505"
      ]
     },
     "execution_count": 8,
     "metadata": {},
     "output_type": "execute_result"
    }
   ],
   "source": [
    "leads_data_df.sample(10)"
   ]
  },
  {
   "cell_type": "code",
   "execution_count": 9,
   "id": "c2aa692b",
   "metadata": {},
   "outputs": [
    {
     "data": {
      "text/html": [
       "<div>\n",
       "<style scoped>\n",
       "    .dataframe tbody tr th:only-of-type {\n",
       "        vertical-align: middle;\n",
       "    }\n",
       "\n",
       "    .dataframe tbody tr th {\n",
       "        vertical-align: top;\n",
       "    }\n",
       "\n",
       "    .dataframe thead th {\n",
       "        text-align: right;\n",
       "    }\n",
       "</style>\n",
       "<table border=\"1\" class=\"dataframe\">\n",
       "  <thead>\n",
       "    <tr style=\"text-align: right;\">\n",
       "      <th></th>\n",
       "      <th>Client ID</th>\n",
       "      <th>First Name</th>\n",
       "      <th>Last Name</th>\n",
       "      <th>City</th>\n",
       "      <th>State</th>\n",
       "      <th>ZIP</th>\n",
       "    </tr>\n",
       "  </thead>\n",
       "  <tbody>\n",
       "    <tr>\n",
       "      <th>0</th>\n",
       "      <td>1</td>\n",
       "      <td>Vincenty</td>\n",
       "      <td>Vanyard</td>\n",
       "      <td>Hollywood</td>\n",
       "      <td>FL</td>\n",
       "      <td>33028</td>\n",
       "    </tr>\n",
       "    <tr>\n",
       "      <th>1</th>\n",
       "      <td>2</td>\n",
       "      <td>Pattie</td>\n",
       "      <td>Okeshott</td>\n",
       "      <td>Scottsdale</td>\n",
       "      <td>AZ</td>\n",
       "      <td>85271</td>\n",
       "    </tr>\n",
       "    <tr>\n",
       "      <th>2</th>\n",
       "      <td>3</td>\n",
       "      <td>Olenka</td>\n",
       "      <td>Blackler</td>\n",
       "      <td>Phoenix</td>\n",
       "      <td>AZ</td>\n",
       "      <td>85020</td>\n",
       "    </tr>\n",
       "    <tr>\n",
       "      <th>3</th>\n",
       "      <td>4</td>\n",
       "      <td>Georgia</td>\n",
       "      <td>Elby</td>\n",
       "      <td>Virginia Beach</td>\n",
       "      <td>VA</td>\n",
       "      <td>23454</td>\n",
       "    </tr>\n",
       "    <tr>\n",
       "      <th>4</th>\n",
       "      <td>5</td>\n",
       "      <td>Sheelah</td>\n",
       "      <td>Petris</td>\n",
       "      <td>Cleveland</td>\n",
       "      <td>OH</td>\n",
       "      <td>44111</td>\n",
       "    </tr>\n",
       "    <tr>\n",
       "      <th>5</th>\n",
       "      <td>6</td>\n",
       "      <td>Dorree</td>\n",
       "      <td>Nunan</td>\n",
       "      <td>Salt Lake City</td>\n",
       "      <td>UT</td>\n",
       "      <td>84115</td>\n",
       "    </tr>\n",
       "    <tr>\n",
       "      <th>6</th>\n",
       "      <td>7</td>\n",
       "      <td>Rodina</td>\n",
       "      <td>De Giovanni</td>\n",
       "      <td>Vero Beach</td>\n",
       "      <td>FL</td>\n",
       "      <td>32964</td>\n",
       "    </tr>\n",
       "    <tr>\n",
       "      <th>7</th>\n",
       "      <td>8</td>\n",
       "      <td>Sibbie</td>\n",
       "      <td>Lorman</td>\n",
       "      <td>Salt Lake City</td>\n",
       "      <td>UT</td>\n",
       "      <td>84170</td>\n",
       "    </tr>\n",
       "    <tr>\n",
       "      <th>8</th>\n",
       "      <td>9</td>\n",
       "      <td>Falito</td>\n",
       "      <td>Dymott</td>\n",
       "      <td>Macon</td>\n",
       "      <td>GA</td>\n",
       "      <td>31217</td>\n",
       "    </tr>\n",
       "    <tr>\n",
       "      <th>9</th>\n",
       "      <td>10</td>\n",
       "      <td>Kin</td>\n",
       "      <td>Rydeard</td>\n",
       "      <td>Saint Paul</td>\n",
       "      <td>MN</td>\n",
       "      <td>55115</td>\n",
       "    </tr>\n",
       "  </tbody>\n",
       "</table>\n",
       "</div>"
      ],
      "text/plain": [
       "   Client ID First Name    Last Name            City State    ZIP\n",
       "0          1   Vincenty      Vanyard       Hollywood    FL  33028\n",
       "1          2     Pattie     Okeshott      Scottsdale    AZ  85271\n",
       "2          3     Olenka     Blackler         Phoenix    AZ  85020\n",
       "3          4    Georgia         Elby  Virginia Beach    VA  23454\n",
       "4          5    Sheelah       Petris       Cleveland    OH  44111\n",
       "5          6     Dorree        Nunan  Salt Lake City    UT  84115\n",
       "6          7     Rodina  De Giovanni      Vero Beach    FL  32964\n",
       "7          8     Sibbie       Lorman  Salt Lake City    UT  84170\n",
       "8          9     Falito       Dymott           Macon    GA  31217\n",
       "9         10        Kin      Rydeard      Saint Paul    MN  55115"
      ]
     },
     "execution_count": 9,
     "metadata": {},
     "output_type": "execute_result"
    }
   ],
   "source": [
    "client_data_df.head(10)"
   ]
  },
  {
   "cell_type": "code",
   "execution_count": 10,
   "id": "dc87b3f1",
   "metadata": {},
   "outputs": [
    {
     "data": {
      "text/html": [
       "<div>\n",
       "<style scoped>\n",
       "    .dataframe tbody tr th:only-of-type {\n",
       "        vertical-align: middle;\n",
       "    }\n",
       "\n",
       "    .dataframe tbody tr th {\n",
       "        vertical-align: top;\n",
       "    }\n",
       "\n",
       "    .dataframe thead th {\n",
       "        text-align: right;\n",
       "    }\n",
       "</style>\n",
       "<table border=\"1\" class=\"dataframe\">\n",
       "  <thead>\n",
       "    <tr style=\"text-align: right;\">\n",
       "      <th></th>\n",
       "      <th>First Name</th>\n",
       "      <th>Last Name</th>\n",
       "      <th>City</th>\n",
       "      <th>State</th>\n",
       "      <th>ZIP</th>\n",
       "    </tr>\n",
       "    <tr>\n",
       "      <th>Client ID</th>\n",
       "      <th></th>\n",
       "      <th></th>\n",
       "      <th></th>\n",
       "      <th></th>\n",
       "      <th></th>\n",
       "    </tr>\n",
       "  </thead>\n",
       "  <tbody>\n",
       "    <tr>\n",
       "      <th>1</th>\n",
       "      <td>Vincenty</td>\n",
       "      <td>Vanyard</td>\n",
       "      <td>Hollywood</td>\n",
       "      <td>FL</td>\n",
       "      <td>33028</td>\n",
       "    </tr>\n",
       "    <tr>\n",
       "      <th>2</th>\n",
       "      <td>Pattie</td>\n",
       "      <td>Okeshott</td>\n",
       "      <td>Scottsdale</td>\n",
       "      <td>AZ</td>\n",
       "      <td>85271</td>\n",
       "    </tr>\n",
       "    <tr>\n",
       "      <th>3</th>\n",
       "      <td>Olenka</td>\n",
       "      <td>Blackler</td>\n",
       "      <td>Phoenix</td>\n",
       "      <td>AZ</td>\n",
       "      <td>85020</td>\n",
       "    </tr>\n",
       "    <tr>\n",
       "      <th>4</th>\n",
       "      <td>Georgia</td>\n",
       "      <td>Elby</td>\n",
       "      <td>Virginia Beach</td>\n",
       "      <td>VA</td>\n",
       "      <td>23454</td>\n",
       "    </tr>\n",
       "    <tr>\n",
       "      <th>5</th>\n",
       "      <td>Sheelah</td>\n",
       "      <td>Petris</td>\n",
       "      <td>Cleveland</td>\n",
       "      <td>OH</td>\n",
       "      <td>44111</td>\n",
       "    </tr>\n",
       "    <tr>\n",
       "      <th>...</th>\n",
       "      <td>...</td>\n",
       "      <td>...</td>\n",
       "      <td>...</td>\n",
       "      <td>...</td>\n",
       "      <td>...</td>\n",
       "    </tr>\n",
       "    <tr>\n",
       "      <th>176</th>\n",
       "      <td>Crystal</td>\n",
       "      <td>Ratley</td>\n",
       "      <td>Henderson</td>\n",
       "      <td>NV</td>\n",
       "      <td>89074</td>\n",
       "    </tr>\n",
       "    <tr>\n",
       "      <th>177</th>\n",
       "      <td>Talbot</td>\n",
       "      <td>McTerry</td>\n",
       "      <td>San Bernardino</td>\n",
       "      <td>CA</td>\n",
       "      <td>92415</td>\n",
       "    </tr>\n",
       "    <tr>\n",
       "      <th>178</th>\n",
       "      <td>Granger</td>\n",
       "      <td>Goudard</td>\n",
       "      <td>London</td>\n",
       "      <td>KY</td>\n",
       "      <td>40745</td>\n",
       "    </tr>\n",
       "    <tr>\n",
       "      <th>179</th>\n",
       "      <td>Sarene</td>\n",
       "      <td>Lowy</td>\n",
       "      <td>Boynton Beach</td>\n",
       "      <td>FL</td>\n",
       "      <td>33436</td>\n",
       "    </tr>\n",
       "    <tr>\n",
       "      <th>180</th>\n",
       "      <td>Vanya</td>\n",
       "      <td>Lamond</td>\n",
       "      <td>Houston</td>\n",
       "      <td>TX</td>\n",
       "      <td>77245</td>\n",
       "    </tr>\n",
       "  </tbody>\n",
       "</table>\n",
       "<p>180 rows × 5 columns</p>\n",
       "</div>"
      ],
      "text/plain": [
       "          First Name Last Name            City State    ZIP\n",
       "Client ID                                                  \n",
       "1           Vincenty   Vanyard       Hollywood    FL  33028\n",
       "2             Pattie  Okeshott      Scottsdale    AZ  85271\n",
       "3             Olenka  Blackler         Phoenix    AZ  85020\n",
       "4            Georgia      Elby  Virginia Beach    VA  23454\n",
       "5            Sheelah    Petris       Cleveland    OH  44111\n",
       "...              ...       ...             ...   ...    ...\n",
       "176          Crystal    Ratley       Henderson    NV  89074\n",
       "177           Talbot   McTerry  San Bernardino    CA  92415\n",
       "178          Granger   Goudard          London    KY  40745\n",
       "179           Sarene      Lowy   Boynton Beach    FL  33436\n",
       "180            Vanya    Lamond         Houston    TX  77245\n",
       "\n",
       "[180 rows x 5 columns]"
      ]
     },
     "execution_count": 10,
     "metadata": {},
     "output_type": "execute_result"
    }
   ],
   "source": [
    "# Drop extra column and reassign Client ID as index\n",
    "client_data_df.set_index('Client ID', inplace=True)\n",
    "client_data_df\n"
   ]
  },
  {
   "cell_type": "code",
   "execution_count": 11,
   "id": "9fe9d142",
   "metadata": {},
   "outputs": [
    {
     "data": {
      "text/plain": [
       "first_name     object\n",
       "last_name      object\n",
       "age           float64\n",
       "gender         object\n",
       "debt           object\n",
       "city           object\n",
       "state          object\n",
       "zip             int64\n",
       "dtype: object"
      ]
     },
     "execution_count": 11,
     "metadata": {},
     "output_type": "execute_result"
    }
   ],
   "source": [
    "# Check data types \n",
    "leads_data_df.dtypes"
   ]
  },
  {
   "cell_type": "code",
   "execution_count": 12,
   "id": "2cb8dc74",
   "metadata": {},
   "outputs": [
    {
     "data": {
      "text/plain": [
       "First Name    object\n",
       "Last Name     object\n",
       "City          object\n",
       "State         object\n",
       "ZIP            int64\n",
       "dtype: object"
      ]
     },
     "execution_count": 12,
     "metadata": {},
     "output_type": "execute_result"
    }
   ],
   "source": [
    "# Check data types \n",
    "client_data_df.dtypes"
   ]
  },
  {
   "cell_type": "code",
   "execution_count": 13,
   "id": "5f345333",
   "metadata": {
    "scrolled": true
   },
   "outputs": [
    {
     "data": {
      "text/html": [
       "<div>\n",
       "<style scoped>\n",
       "    .dataframe tbody tr th:only-of-type {\n",
       "        vertical-align: middle;\n",
       "    }\n",
       "\n",
       "    .dataframe tbody tr th {\n",
       "        vertical-align: top;\n",
       "    }\n",
       "\n",
       "    .dataframe thead th {\n",
       "        text-align: right;\n",
       "    }\n",
       "</style>\n",
       "<table border=\"1\" class=\"dataframe\">\n",
       "  <thead>\n",
       "    <tr style=\"text-align: right;\">\n",
       "      <th></th>\n",
       "      <th>first_name</th>\n",
       "      <th>last_name</th>\n",
       "      <th>age</th>\n",
       "      <th>gender</th>\n",
       "      <th>debt</th>\n",
       "      <th>city</th>\n",
       "      <th>state</th>\n",
       "      <th>zip</th>\n",
       "    </tr>\n",
       "  </thead>\n",
       "  <tbody>\n",
       "    <tr>\n",
       "      <th>0</th>\n",
       "      <td>Terrye</td>\n",
       "      <td>Gunnell</td>\n",
       "      <td>60.0</td>\n",
       "      <td>Female</td>\n",
       "      <td>101876</td>\n",
       "      <td>Springfield</td>\n",
       "      <td>MA</td>\n",
       "      <td>1152</td>\n",
       "    </tr>\n",
       "    <tr>\n",
       "      <th>1</th>\n",
       "      <td>Rodolph</td>\n",
       "      <td>Gerb</td>\n",
       "      <td>47.0</td>\n",
       "      <td>Male</td>\n",
       "      <td>92052</td>\n",
       "      <td>Worcester</td>\n",
       "      <td>MA</td>\n",
       "      <td>1605</td>\n",
       "    </tr>\n",
       "    <tr>\n",
       "      <th>2</th>\n",
       "      <td>Glynis</td>\n",
       "      <td>D'orsay</td>\n",
       "      <td>56.0</td>\n",
       "      <td>Female</td>\n",
       "      <td>72343</td>\n",
       "      <td>Worcester</td>\n",
       "      <td>MA</td>\n",
       "      <td>1654</td>\n",
       "    </tr>\n",
       "    <tr>\n",
       "      <th>3</th>\n",
       "      <td>Alvie</td>\n",
       "      <td>Vennart</td>\n",
       "      <td>73.0</td>\n",
       "      <td>Male</td>\n",
       "      <td>76304</td>\n",
       "      <td>Woburn</td>\n",
       "      <td>MA</td>\n",
       "      <td>1813</td>\n",
       "    </tr>\n",
       "    <tr>\n",
       "      <th>4</th>\n",
       "      <td>Brantley</td>\n",
       "      <td>Chalker</td>\n",
       "      <td>87.0</td>\n",
       "      <td>Male</td>\n",
       "      <td>22570</td>\n",
       "      <td>Boston</td>\n",
       "      <td>MA</td>\n",
       "      <td>2114</td>\n",
       "    </tr>\n",
       "    <tr>\n",
       "      <th>...</th>\n",
       "      <td>...</td>\n",
       "      <td>...</td>\n",
       "      <td>...</td>\n",
       "      <td>...</td>\n",
       "      <td>...</td>\n",
       "      <td>...</td>\n",
       "      <td>...</td>\n",
       "      <td>...</td>\n",
       "    </tr>\n",
       "    <tr>\n",
       "      <th>995</th>\n",
       "      <td>Sigrid</td>\n",
       "      <td>Clevely</td>\n",
       "      <td>39.0</td>\n",
       "      <td>Female</td>\n",
       "      <td>0</td>\n",
       "      <td>Spokane</td>\n",
       "      <td>WA</td>\n",
       "      <td>99215</td>\n",
       "    </tr>\n",
       "    <tr>\n",
       "      <th>996</th>\n",
       "      <td>Hank</td>\n",
       "      <td>Effnert</td>\n",
       "      <td>62.0</td>\n",
       "      <td>Male</td>\n",
       "      <td>89054</td>\n",
       "      <td>Spokane</td>\n",
       "      <td>WA</td>\n",
       "      <td>99215</td>\n",
       "    </tr>\n",
       "    <tr>\n",
       "      <th>997</th>\n",
       "      <td>Harley</td>\n",
       "      <td>Lodder</td>\n",
       "      <td>37.0</td>\n",
       "      <td>Male</td>\n",
       "      <td>100941</td>\n",
       "      <td>Spokane</td>\n",
       "      <td>WA</td>\n",
       "      <td>99252</td>\n",
       "    </tr>\n",
       "    <tr>\n",
       "      <th>998</th>\n",
       "      <td>Mose</td>\n",
       "      <td>Warwick</td>\n",
       "      <td>88.0</td>\n",
       "      <td>Male</td>\n",
       "      <td>33860</td>\n",
       "      <td>Anchorage</td>\n",
       "      <td>AK</td>\n",
       "      <td>99507</td>\n",
       "    </tr>\n",
       "    <tr>\n",
       "      <th>999</th>\n",
       "      <td>Willi</td>\n",
       "      <td>Sivess</td>\n",
       "      <td>68.0</td>\n",
       "      <td>Male</td>\n",
       "      <td>62314</td>\n",
       "      <td>Juneau</td>\n",
       "      <td>AK</td>\n",
       "      <td>99812</td>\n",
       "    </tr>\n",
       "  </tbody>\n",
       "</table>\n",
       "<p>1000 rows × 8 columns</p>\n",
       "</div>"
      ],
      "text/plain": [
       "    first_name last_name   age  gender    debt         city state    zip\n",
       "0       Terrye   Gunnell  60.0  Female  101876  Springfield    MA   1152\n",
       "1      Rodolph      Gerb  47.0    Male   92052    Worcester    MA   1605\n",
       "2       Glynis   D'orsay  56.0  Female   72343    Worcester    MA   1654\n",
       "3        Alvie   Vennart  73.0    Male   76304       Woburn    MA   1813\n",
       "4     Brantley   Chalker  87.0    Male   22570       Boston    MA   2114\n",
       "..         ...       ...   ...     ...     ...          ...   ...    ...\n",
       "995     Sigrid   Clevely  39.0  Female       0      Spokane    WA  99215\n",
       "996       Hank   Effnert  62.0    Male   89054      Spokane    WA  99215\n",
       "997     Harley    Lodder  37.0    Male  100941      Spokane    WA  99252\n",
       "998       Mose   Warwick  88.0    Male   33860    Anchorage    AK  99507\n",
       "999      Willi    Sivess  68.0    Male   62314       Juneau    AK  99812\n",
       "\n",
       "[1000 rows x 8 columns]"
      ]
     },
     "execution_count": 13,
     "metadata": {},
     "output_type": "execute_result"
    }
   ],
   "source": [
    "# Use regex to ged rid of $ in the debt column\n",
    "leads_data_df['debt'] = leads_data_df['debt'].replace({'\\$': '', ',': ''}, regex=True)\n",
    "leads_data_df"
   ]
  },
  {
   "cell_type": "code",
   "execution_count": 14,
   "id": "2e5ab9e1",
   "metadata": {},
   "outputs": [],
   "source": [
    "# convert column \"debt\" to int64 dtype \n",
    "leads_data_df.debt = leads_data_df.debt.astype('int64')\n"
   ]
  },
  {
   "cell_type": "code",
   "execution_count": 15,
   "id": "c852f1fd",
   "metadata": {
    "scrolled": true
   },
   "outputs": [
    {
     "data": {
      "text/plain": [
       "gender\n",
       "Female    477\n",
       "Male      498\n",
       "Name: gender, dtype: int64"
      ]
     },
     "execution_count": 15,
     "metadata": {},
     "output_type": "execute_result"
    }
   ],
   "source": [
    "# Group leads data by gender\n",
    "gender_data = leads_data_df.groupby('gender')['gender'].count()\n",
    "gender_data"
   ]
  },
  {
   "cell_type": "code",
   "execution_count": 16,
   "id": "fcdef1a1",
   "metadata": {},
   "outputs": [],
   "source": [
    "leads_gender = leads_data_df['gender']\n",
    "def sex_counter(leads_gender):\n",
    "    male = 0\n",
    "    female = 0\n",
    "\n",
    "    for i in leads_gender:\n",
    "        if i == 'Female':\n",
    "            female += 1\n",
    "        elif i == 'Male':\n",
    "            male += 1\n",
    "            \n",
    "    return male,female\n",
    "    "
   ]
  },
  {
   "cell_type": "code",
   "execution_count": 17,
   "id": "797b506b",
   "metadata": {},
   "outputs": [
    {
     "data": {
      "text/plain": [
       "(498, 477)"
      ]
     },
     "execution_count": 17,
     "metadata": {},
     "output_type": "execute_result"
    }
   ],
   "source": [
    "sex_counter(leads_gender)"
   ]
  },
  {
   "cell_type": "code",
   "execution_count": 18,
   "id": "7f401323",
   "metadata": {},
   "outputs": [
    {
     "data": {
      "image/png": "[encoded data removed]",
      "text/plain": [
       "<Figure size 648x432 with 1 Axes>"
      ]
     },
     "metadata": {},
     "output_type": "display_data"
    }
   ],
   "source": [
    "# Plot leads by gender using matplotlib\n",
    "pie, ax = plt.subplots(figsize=[9,6])\n",
    "labels = gender_data.keys()\n",
    "plt.pie(x=gender_data, autopct=\"%.1f%%\", explode=[0.05]*2, labels=labels, pctdistance=0.5)\n",
    "plt.title(\"Users by Gender\", fontsize=14)\n",
    "pie.savefig(\"DataByGenderPieChart.png\")"
   ]
  },
  {
   "cell_type": "code",
   "execution_count": 19,
   "id": "e63b5cca",
   "metadata": {
    "scrolled": true
   },
   "outputs": [
    {
     "data": {
      "text/plain": [
       "state\n",
       "AK      2\n",
       "AL     24\n",
       "AR      3\n",
       "AZ     17\n",
       "CA    112\n",
       "CO     25\n",
       "CT     13\n",
       "DC     34\n",
       "DE      1\n",
       "FL     69\n",
       "GA     27\n",
       "HI      4\n",
       "IA      9\n",
       "ID      4\n",
       "IL     29\n",
       "IN     19\n",
       "KS     18\n",
       "KY     13\n",
       "LA     20\n",
       "MA     15\n",
       "MD     10\n",
       "MI     18\n",
       "MN     19\n",
       "MO     21\n",
       "MS      4\n",
       "NC     29\n",
       "ND      2\n",
       "NE      7\n",
       "NJ     10\n",
       "NM      9\n",
       "NV     24\n",
       "NY     50\n",
       "OH     45\n",
       "OK     27\n",
       "OR      9\n",
       "PA     30\n",
       "SC      9\n",
       "SD      3\n",
       "TN     26\n",
       "TX     97\n",
       "UT     14\n",
       "VA     27\n",
       "VT      1\n",
       "WA     27\n",
       "WI     14\n",
       "WV      7\n",
       "WY      3\n",
       "Name: state, dtype: int64"
      ]
     },
     "execution_count": 19,
     "metadata": {},
     "output_type": "execute_result"
    }
   ],
   "source": [
    "# Group leads by State \n",
    "state_data = leads_data_df.groupby('state')['state'].count()\n",
    "state_data"
   ]
  },
  {
   "cell_type": "code",
   "execution_count": 20,
   "id": "e833d131",
   "metadata": {
    "scrolled": true
   },
   "outputs": [
    {
     "data": {
      "text/plain": [
       "state\n",
       "CA    112\n",
       "TX     97\n",
       "FL     69\n",
       "NY     50\n",
       "OH     45\n",
       "DC     34\n",
       "PA     30\n",
       "IL     29\n",
       "NC     29\n",
       "GA     27\n",
       "VA     27\n",
       "WA     27\n",
       "OK     27\n",
       "TN     26\n",
       "CO     25\n",
       "AL     24\n",
       "NV     24\n",
       "MO     21\n",
       "LA     20\n",
       "MN     19\n",
       "IN     19\n",
       "MI     18\n",
       "KS     18\n",
       "AZ     17\n",
       "MA     15\n",
       "UT     14\n",
       "WI     14\n",
       "KY     13\n",
       "CT     13\n",
       "MD     10\n",
       "NJ     10\n",
       "IA      9\n",
       "OR      9\n",
       "SC      9\n",
       "NM      9\n",
       "NE      7\n",
       "WV      7\n",
       "ID      4\n",
       "HI      4\n",
       "MS      4\n",
       "WY      3\n",
       "SD      3\n",
       "AR      3\n",
       "ND      2\n",
       "AK      2\n",
       "VT      1\n",
       "DE      1\n",
       "Name: state, dtype: int64"
      ]
     },
     "execution_count": 20,
     "metadata": {},
     "output_type": "execute_result"
    }
   ],
   "source": [
    "# Sort states in descending order\n",
    "state_data_sorted = state_data.sort_values(ascending=False)\n",
    "state_data_sorted"
   ]
  },
  {
   "cell_type": "code",
   "execution_count": 21,
   "id": "dbac9a25",
   "metadata": {
    "scrolled": true
   },
   "outputs": [
    {
     "data": {
      "text/plain": [
       "state\n",
       "CA    112\n",
       "TX     97\n",
       "FL     69\n",
       "NY     50\n",
       "OH     45\n",
       "DC     34\n",
       "PA     30\n",
       "IL     29\n",
       "NC     29\n",
       "GA     27\n",
       "VA     27\n",
       "WA     27\n",
       "OK     27\n",
       "TN     26\n",
       "CO     25\n",
       "Name: state, dtype: int64"
      ]
     },
     "execution_count": 21,
     "metadata": {},
     "output_type": "execute_result"
    }
   ],
   "source": [
    "# Top 15 states \n",
    "state_top_data = state_data_sorted[:15]\n",
    "state_top_data"
   ]
  },
  {
   "cell_type": "code",
   "execution_count": 22,
   "id": "0f0b6f97",
   "metadata": {},
   "outputs": [
    {
     "data": {
      "text/plain": [
       "Index(['CA', 'TX', 'FL', 'NY', 'OH', 'DC', 'PA', 'IL', 'NC', 'GA', 'VA', 'WA',\n",
       "       'OK', 'TN', 'CO'],\n",
       "      dtype='object', name='state')"
      ]
     },
     "execution_count": 22,
     "metadata": {},
     "output_type": "execute_result"
    }
   ],
   "source": [
    "state_top_data.keys()"
   ]
  },
  {
   "cell_type": "code",
   "execution_count": 23,
   "id": "c75b648d",
   "metadata": {
    "scrolled": true
   },
   "outputs": [
    {
     "data": {
      "text/plain": [
       "state\n",
       "CA    11.2\n",
       "TX     9.7\n",
       "FL     6.9\n",
       "NY     5.0\n",
       "OH     4.5\n",
       "DC     3.4\n",
       "PA     3.0\n",
       "IL     2.9\n",
       "NC     2.9\n",
       "GA     2.7\n",
       "VA     2.7\n",
       "WA     2.7\n",
       "OK     2.7\n",
       "TN     2.6\n",
       "CO     2.5\n",
       "Name: state, dtype: float64"
      ]
     },
     "execution_count": 23,
     "metadata": {},
     "output_type": "execute_result"
    }
   ],
   "source": [
    "# As we don’t have the autopct option available in Seaborn, we’ll need to calculate the percentage column for the top 10 states.\n",
    "total_count = state_data.sum()\n",
    "state_pcts = round((state_top_data / total_count * 100),2)\n",
    "state_pcts"
   ]
  },
  {
   "cell_type": "code",
   "execution_count": 24,
   "id": "119a9f94",
   "metadata": {},
   "outputs": [
    {
     "name": "stderr",
     "output_type": "stream",
     "text": [
      "/Users/josemonagas/anaconda3/envs/PythonData/lib/python3.7/site-packages/ipykernel_launcher.py:3: MatplotlibDeprecationWarning: Using a string of single character colors as a color sequence is deprecated since 3.2 and will be removed two minor releases later. Use an explicit list instead.\n",
      "  This is separate from the ipykernel package so we can avoid doing imports until\n"
     ]
    },
    {
     "data": {
      "text/plain": [
       "<matplotlib.legend.Legend at 0x7f86ca391f10>"
      ]
     },
     "execution_count": 24,
     "metadata": {},
     "output_type": "execute_result"
    },
    {
     "data": {
      "image/png": "[encoded data removed]",
      "text/plain": [
       "<Figure size 432x288 with 1 Axes>"
      ]
     },
     "metadata": {},
     "output_type": "display_data"
    }
   ],
   "source": [
    "# Plot state data \n",
    "my_colors = 'rgbkymc'\n",
    "plt.bar(state_top_data.keys(), state_top_data, color=my_colors, label='States')\n",
    "# Create labels for the x and y axes.\n",
    "plt.xlabel(\"State\")\n",
    "plt.ylabel(\"Users per State\")\n",
    "# Create a title.\n",
    "plt.title(\"Top 15 States\")\n",
    "# Save the plot \n",
    "plt.savefig('Top15states.png',dpi=400)\n",
    "# Add the legend.\n",
    "plt.legend()"
   ]
  },
  {
   "cell_type": "code",
   "execution_count": 25,
   "id": "f361ea5e",
   "metadata": {},
   "outputs": [
    {
     "data": {
      "text/plain": [
       "gender\n",
       "Female    29027030\n",
       "Male      30133392\n",
       "Name: debt, dtype: int64"
      ]
     },
     "execution_count": 25,
     "metadata": {},
     "output_type": "execute_result"
    }
   ],
   "source": [
    "# Debt by gender  \n",
    "debt_data_by_gender = leads_data_df.groupby('gender')['debt'].sum()\n",
    "debt_data_by_gender"
   ]
  },
  {
   "cell_type": "code",
   "execution_count": 26,
   "id": "ec8bcef6",
   "metadata": {},
   "outputs": [
    {
     "data": {
      "image/png": "[encoded data removed]",
      "text/plain": [
       "<Figure size 648x432 with 1 Axes>"
      ]
     },
     "metadata": {},
     "output_type": "display_data"
    }
   ],
   "source": [
    "# Plot debt by gender using matplotlib\n",
    "pie, ax = plt.subplots(figsize=[9,6])\n",
    "labels = debt_data_by_gender.keys()\n",
    "plt.pie(x=debt_data_by_gender, autopct=\"%.1f%%\", explode=[0.05]*2, labels=labels, pctdistance=0.5)\n",
    "plt.title(\"Debt by Gender\", fontsize=14)\n",
    "pie.savefig(\"DebtByGenderPieChart.png\")"
   ]
  },
  {
   "cell_type": "code",
   "execution_count": 27,
   "id": "47244b6b",
   "metadata": {
    "scrolled": true
   },
   "outputs": [
    {
     "data": {
      "text/plain": [
       "state\n",
       "CA    7501022\n",
       "TX    5779456\n",
       "FL    4027190\n",
       "NY    2922371\n",
       "OH    2715174\n",
       "DC    1970957\n",
       "PA    1948023\n",
       "IL    1886997\n",
       "NC    1657781\n",
       "NV    1567767\n",
       "CO    1553721\n",
       "WA    1547235\n",
       "VA    1501417\n",
       "OK    1432157\n",
       "GA    1427445\n",
       "AL    1402398\n",
       "IN    1336082\n",
       "TN    1317415\n",
       "MO    1247947\n",
       "MN    1206535\n",
       "LA    1197959\n",
       "KS    1175690\n",
       "MI    1150598\n",
       "AZ    1094498\n",
       "MA    1065590\n",
       "UT     871965\n",
       "KY     804099\n",
       "WI     783158\n",
       "CT     724602\n",
       "NJ     717401\n",
       "OR     593405\n",
       "MD     592403\n",
       "SC     574229\n",
       "IA     521395\n",
       "NM     498899\n",
       "NE     375410\n",
       "MS     328526\n",
       "WV     323445\n",
       "ID     239170\n",
       "WY     215054\n",
       "AR     192056\n",
       "HI     153290\n",
       "SD     122036\n",
       "ND     115192\n",
       "VT     106464\n",
       "DE     104339\n",
       "AK      96174\n",
       "Name: debt, dtype: int64"
      ]
     },
     "execution_count": 27,
     "metadata": {},
     "output_type": "execute_result"
    }
   ],
   "source": [
    "# Debt by State \n",
    "debt_data_by_state = leads_data_df.groupby('state')['debt'].sum()\n",
    "debt_data_by_state.sort_values(ascending=False)"
   ]
  },
  {
   "cell_type": "code",
   "execution_count": 28,
   "id": "7906aeae",
   "metadata": {},
   "outputs": [
    {
     "data": {
      "text/plain": [
       "state\n",
       "CA    7501022\n",
       "TX    5779456\n",
       "FL    4027190\n",
       "NY    2922371\n",
       "OH    2715174\n",
       "DC    1970957\n",
       "PA    1948023\n",
       "IL    1886997\n",
       "NC    1657781\n",
       "NV    1567767\n",
       "CO    1553721\n",
       "WA    1547235\n",
       "VA    1501417\n",
       "OK    1432157\n",
       "GA    1427445\n",
       "Name: debt, dtype: int64"
      ]
     },
     "execution_count": 28,
     "metadata": {},
     "output_type": "execute_result"
    }
   ],
   "source": [
    "debt_data_by_state = debt_data_by_state.sort_values(ascending=False)[:15]\n",
    "debt_data_by_state"
   ]
  },
  {
   "cell_type": "code",
   "execution_count": 29,
   "id": "7446eb2c",
   "metadata": {},
   "outputs": [
    {
     "name": "stderr",
     "output_type": "stream",
     "text": [
      "/Users/josemonagas/anaconda3/envs/PythonData/lib/python3.7/site-packages/ipykernel_launcher.py:3: MatplotlibDeprecationWarning: Using a string of single character colors as a color sequence is deprecated since 3.2 and will be removed two minor releases later. Use an explicit list instead.\n",
      "  This is separate from the ipykernel package so we can avoid doing imports until\n"
     ]
    },
    {
     "data": {
      "text/plain": [
       "<matplotlib.legend.Legend at 0x7f86ca3a4150>"
      ]
     },
     "execution_count": 29,
     "metadata": {},
     "output_type": "execute_result"
    },
    {
     "data": {
      "image/png": "[encoded data removed]",
      "text/plain": [
       "<Figure size 432x288 with 1 Axes>"
      ]
     },
     "metadata": {},
     "output_type": "display_data"
    }
   ],
   "source": [
    "# Plot state data \n",
    "my_colors = 'rgbkym'\n",
    "plt.bar(debt_data_by_state.keys(), debt_data_by_state, color=my_colors, label='States')\n",
    "# Create labels for the x and y axes.\n",
    "plt.xlabel(\"State\")\n",
    "plt.ylabel(\"Total debt by State\")\n",
    "plt.ylim([1000000,8000000])\n",
    "# Create a title.\n",
    "plt.title(\"Total debt by state\")\n",
    "# Save the plot \n",
    "plt.savefig('totaldebtbystates.png',dpi=400)\n",
    "# Add the legend.\n",
    "plt.legend()"
   ]
  },
  {
   "cell_type": "code",
   "execution_count": 30,
   "id": "94cafa8e",
   "metadata": {
    "scrolled": true
   },
   "outputs": [
    {
     "data": {
      "text/plain": [
       "age\n",
       "96.0     1273497\n",
       "56.0     1243131\n",
       "91.0     1235080\n",
       "76.0     1224085\n",
       "47.0     1212657\n",
       "31.0     1096796\n",
       "65.0     1060824\n",
       "46.0     1050264\n",
       "72.0     1032304\n",
       "62.0     1026785\n",
       "52.0     1016814\n",
       "37.0      964819\n",
       "81.0      960250\n",
       "35.0      957572\n",
       "94.0      947922\n",
       "34.0      946975\n",
       "100.0     941787\n",
       "24.0      941647\n",
       "28.0      930060\n",
       "39.0      929018\n",
       "Name: debt, dtype: int64"
      ]
     },
     "execution_count": 30,
     "metadata": {},
     "output_type": "execute_result"
    }
   ],
   "source": [
    "# Debt by Age\n",
    "debt_data_by_age = leads_data_df.groupby('age')['debt'].sum()\n",
    "debt_data_by_age = debt_data_by_age.sort_values(ascending=False)\n",
    "debt_data_by_age.head(20)"
   ]
  },
  {
   "cell_type": "code",
   "execution_count": 31,
   "id": "858ac07e",
   "metadata": {},
   "outputs": [
    {
     "data": {
      "text/plain": [
       "age\n",
       "96.0    1273\n",
       "56.0    1243\n",
       "91.0    1235\n",
       "76.0    1224\n",
       "47.0    1212\n",
       "        ... \n",
       "38.0     351\n",
       "59.0     346\n",
       "57.0     342\n",
       "90.0     329\n",
       "49.0     275\n",
       "Name: debt, Length: 81, dtype: int64"
      ]
     },
     "execution_count": 31,
     "metadata": {},
     "output_type": "execute_result"
    }
   ],
   "source": [
    "debt_data_by_age = debt_data_by_age // 1000\n",
    "debt_data_by_age"
   ]
  },
  {
   "cell_type": "code",
   "execution_count": 32,
   "id": "057e9e26",
   "metadata": {},
   "outputs": [
    {
     "data": {
      "text/plain": [
       "<matplotlib.legend.Legend at 0x7f86cc3e3a10>"
      ]
     },
     "execution_count": 32,
     "metadata": {},
     "output_type": "execute_result"
    },
    {
     "data": {
      "image/png": "[encoded data removed]",
      "text/plain": [
       "<Figure size 432x288 with 1 Axes>"
      ]
     },
     "metadata": {},
     "output_type": "display_data"
    }
   ],
   "source": [
    "# Build the scatter plot for debt by age\n",
    "plt.scatter(debt_data_by_age.keys(),\n",
    "      debt_data_by_age,\n",
    "      s=4*debt_data_by_age.keys(), c=\"coral\",\n",
    "      edgecolor=\"black\", linewidths=1,\n",
    "      alpha=0.8, label=\"Age\")\n",
    "plt.title(\"Total debt by age\")\n",
    "plt.ylabel(\"Total debt /100\")\n",
    "plt.xlabel(\"Age\")\n",
    "plt.grid(True)\n",
    "# Create a legend\n",
    "lgnd = plt.legend(fontsize=\"12\", mode=\"Expanded\",\n",
    "         scatterpoints=1, loc=\"best\", title=\"Age\")\n",
    "lgnd.get_title().set_fontsize(12)\n",
    "# Incorporate a text label about circle size.\n",
    "plt.text(0.2,0.7, \"Note: Circle size correlates with user age.\", fontsize=\"12\", horizontalalignment='center', verticalalignment='center', transform=ax.transAxes)\n",
    "plt.savefig(\"debtbyagee.png\")\n",
    "plt.legend()\n"
   ]
  },
  {
   "cell_type": "code",
   "execution_count": 33,
   "id": "b0b676b1",
   "metadata": {},
   "outputs": [
    {
     "data": {
      "text/plain": [
       "age\n",
       "99.0     18\n",
       "96.0     18\n",
       "91.0     18\n",
       "47.0     18\n",
       "62.0     18\n",
       "56.0     18\n",
       "76.0     17\n",
       "39.0     17\n",
       "31.0     17\n",
       "52.0     17\n",
       "81.0     16\n",
       "28.0     16\n",
       "65.0     16\n",
       "35.0     16\n",
       "60.0     15\n",
       "50.0     15\n",
       "72.0     15\n",
       "83.0     15\n",
       "46.0     15\n",
       "100.0    15\n",
       "32.0     15\n",
       "68.0     14\n",
       "45.0     14\n",
       "37.0     14\n",
       "23.0     14\n",
       "82.0     14\n",
       "94.0     14\n",
       "34.0     13\n",
       "86.0     13\n",
       "67.0     13\n",
       "24.0     13\n",
       "41.0     13\n",
       "84.0     13\n",
       "71.0     13\n",
       "97.0     13\n",
       "78.0     13\n",
       "36.0     12\n",
       "95.0     12\n",
       "73.0     12\n",
       "69.0     12\n",
       "75.0     12\n",
       "26.0     12\n",
       "98.0     12\n",
       "79.0     12\n",
       "20.0     11\n",
       "25.0     11\n",
       "64.0     11\n",
       "88.0     11\n",
       "61.0     11\n",
       "93.0     11\n",
       "Name: debt, dtype: int64"
      ]
     },
     "execution_count": 33,
     "metadata": {},
     "output_type": "execute_result"
    }
   ],
   "source": [
    "debt_data_by_age = leads_data_df.groupby('age')['debt'].count()\n",
    "debt_data_by_age = debt_data_by_age.sort_values(ascending=False)\n",
    "debt_data_by_age.head(50)"
   ]
  },
  {
   "cell_type": "code",
   "execution_count": null,
   "id": "82efb430",
   "metadata": {},
   "outputs": [],
   "source": []
  },
  {
   "cell_type": "code",
   "execution_count": null,
   "id": "1e63a31f",
   "metadata": {},
   "outputs": [],
   "source": []
  }
 ],
 "metadata": {
  "kernelspec": {
   "display_name": "PythonData",
   "language": "python",
   "name": "pythondata"
  },
  "language_info": {
   "codemirror_mode": {
    "name": "ipython",
    "version": 3
   },
   "file_extension": ".py",
   "mimetype": "text/x-python",
   "name": "python",
   "nbconvert_exporter": "python",
   "pygments_lexer": "ipython3",
   "version": "3.7.9"
  }
 },
 "nbformat": 4,
 "nbformat_minor": 5
}
